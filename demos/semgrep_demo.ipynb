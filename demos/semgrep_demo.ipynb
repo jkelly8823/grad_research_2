{
 "cells": [
  {
   "cell_type": "code",
   "execution_count": 4,
   "metadata": {},
   "outputs": [],
   "source": [
    "import subprocess\n",
    "\n",
    "import getpass\n",
    "import os\n",
    "from dotenv import load_dotenv\n",
    "\n",
    "from langchain_core.messages import AIMessage\n",
    "from langchain_core.tools import tool\n",
    "\n",
    "from langgraph.prebuilt import ToolNode\n",
    "\n",
    "from typing import Literal\n",
    "\n",
    "from langchain_anthropic import ChatAnthropic\n",
    "from langgraph.graph import StateGraph, MessagesState\n",
    "\n",
    "from langgraph.graph import START, END\n",
    "\n",
    "from IPython.display import Image, display\n",
    "\n",
    "import semgrep"
   ]
  },
  {
   "cell_type": "code",
   "execution_count": 17,
   "metadata": {},
   "outputs": [],
   "source": [
    "# @tool\n",
    "def run_semgrep(patterns: str, paths: list) -> str:\n",
    "    \"\"\"\n",
    "    Run a Semgrep SAST scan on the specified paths using the provided patterns.\n",
    "    \n",
    "    :param patterns: Path to the Semgrep patterns file or rules to apply.\n",
    "    :param paths: List of file paths or directories to scan.\n",
    "    :return: Result of the scan or error message.\n",
    "    \"\"\"\n",
    "    try:\n",
    "        # Ensure the patterns file exists\n",
    "        if not os.path.exists(patterns):\n",
    "            return f\"Patterns file does not exist: {patterns}\"\n",
    "\n",
    "        # Prepare Semgrep command\n",
    "        command = ['semgrep', '--config', patterns, '--output', 'results.json'] + paths\n",
    "        print(f\"Running command: {' '.join(command)}\")\n",
    "\n",
    "        # Execute the command\n",
    "        result = subprocess.run(command, capture_output=True, text=True)\n",
    "\n",
    "        # Check if there were any issues\n",
    "        if result.returncode != 0:\n",
    "            print(f\"Error running Semgrep: {result.stderr}\")\n",
    "            return f\"Error: {result.stderr}\"\n",
    "\n",
    "        print(\"Scan completed successfully. Results saved in results.json.\")\n",
    "        return result.stdout\n",
    "\n",
    "    except Exception as e:\n",
    "        return f\"An error occurred: {e}\""
   ]
  },
  {
   "cell_type": "code",
   "execution_count": 18,
   "metadata": {},
   "outputs": [
    {
     "name": "stdout",
     "output_type": "stream",
     "text": [
      "Running command: semgrep --config D:\\grad_research_2\\demos\\sample_rules.yml --output results.json D:\\grad_research_2\\datasets\\sample.cpp\n",
      "Scan Results:\n",
      "An error occurred: [WinError 2] The system cannot find the file specified\n"
     ]
    }
   ],
   "source": [
    "patterns = \"D:\\grad_research_2\\demos\\sample_rules.yml\"  # Change to your Semgrep patterns file\n",
    "paths = [\"D:\\grad_research_2\\datasets\\sample.cpp\"]  # Change to the path you want to scan\n",
    "\n",
    "results = run_semgrep(patterns, paths)\n",
    "print(\"Scan Results:\")\n",
    "print(results)"
   ]
  },
  {
   "cell_type": "markdown",
   "metadata": {},
   "source": []
  },
  {
   "cell_type": "code",
   "execution_count": null,
   "metadata": {},
   "outputs": [],
   "source": []
  }
 ],
 "metadata": {
  "kernelspec": {
   "display_name": "Python 3",
   "language": "python",
   "name": "python3"
  },
  "language_info": {
   "codemirror_mode": {
    "name": "ipython",
    "version": 3
   },
   "file_extension": ".py",
   "mimetype": "text/x-python",
   "name": "python",
   "nbconvert_exporter": "python",
   "pygments_lexer": "ipython3",
   "version": "3.11.5"
  }
 },
 "nbformat": 4,
 "nbformat_minor": 2
}
